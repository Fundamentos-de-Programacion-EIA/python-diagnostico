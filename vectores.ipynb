{
 "cells": [
  {
   "cell_type": "code",
   "execution_count": 2,
   "metadata": {},
   "outputs": [],
   "source": [
    "lista_ejemplo = [234, 245, 465, 973, 324]"
   ]
  },
  {
   "cell_type": "code",
   "execution_count": 3,
   "metadata": {},
   "outputs": [
    {
     "name": "stdout",
     "output_type": "stream",
     "text": [
      "el elemento es:  234\n",
      "el elemento es:  245\n",
      "el elemento es:  465\n",
      "el elemento es:  973\n",
      "el elemento es:  324\n"
     ]
    }
   ],
   "source": [
    "for elemento in lista_ejemplo:\n",
    "    print(\"el elemento es: \",  elemento)"
   ]
  },
  {
   "cell_type": "code",
   "execution_count": 5,
   "metadata": {},
   "outputs": [
    {
     "name": "stdout",
     "output_type": "stream",
     "text": [
      "el elemento  234  es menor o igual a 400\n",
      "el elemento  245  es menor o igual a 400\n",
      "el elemento  465  es mayor que 400\n",
      "el elemento  973  es mayor que 500\n",
      "el elemento  324  es menor o igual a 400\n"
     ]
    }
   ],
   "source": [
    "for elemento in lista_ejemplo:\n",
    "    if elemento > 500:\n",
    "        print(\"el elemento \", elemento, \" es mayor que 500\")\n",
    "    elif elemento > 400:\n",
    "        print(\"el elemento \", elemento, \" es mayor que 400\")\n",
    "    else:\n",
    "        print(\"el elemento \", elemento, \" es menor o igual a 400\")\n"
   ]
  },
  {
   "cell_type": "code",
   "execution_count": 7,
   "metadata": {},
   "outputs": [],
   "source": [
    "lista_ejemplo2 = [[1,2], [5,6], [7,9]]"
   ]
  },
  {
   "cell_type": "code",
   "execution_count": 10,
   "metadata": {},
   "outputs": [
    {
     "data": {
      "text/plain": [
       "7"
      ]
     },
     "execution_count": 10,
     "metadata": {},
     "output_type": "execute_result"
    }
   ],
   "source": [
    "lista_ejemplo2[2][0]"
   ]
  },
  {
   "cell_type": "code",
   "execution_count": 17,
   "metadata": {},
   "outputs": [
    {
     "name": "stdout",
     "output_type": "stream",
     "text": [
      "100\n",
      "[6, 25, -5, 150]\n"
     ]
    }
   ],
   "source": [
    "# operaciones en listas\n",
    "\n",
    "lista_ejemplo3 = [1, 10, 25, 6]\n",
    "\n",
    "# cambiar el valor según el índice\n",
    "lista_ejemplo3[0] = -5\n",
    "\n",
    "# agregar valor al final\n",
    "lista_ejemplo3.append(100)\n",
    "\n",
    "# eliminar el último valor de la lista\n",
    "valor_eliminado = lista_ejemplo3.pop()\n",
    "print(valor_eliminado)\n",
    "\n",
    "# eliminar la primera ocurrencia de un valor en una lista\n",
    "lista_ejemplo3.remove(10)\n",
    "\n",
    "#agregar un valor en un indice especifico\n",
    "lista_ejemplo3.insert(0,150)\n",
    "\n",
    "# cambiar el orden de la lista\n",
    "lista_ejemplo3.reverse()\n",
    "\n",
    "print(lista_ejemplo3)"
   ]
  },
  {
   "cell_type": "code",
   "execution_count": 22,
   "metadata": {},
   "outputs": [
    {
     "name": "stdout",
     "output_type": "stream",
     "text": [
      "la suma de los elementos es:  176\n"
     ]
    }
   ],
   "source": [
    "suma = 0\n",
    "\n",
    "for elemento in lista_ejemplo3:\n",
    "    suma += elemento\n",
    "\n",
    "print(\"la suma de los elementos es: \", suma)"
   ]
  },
  {
   "cell_type": "code",
   "execution_count": 23,
   "metadata": {},
   "outputs": [],
   "source": [
    "l1 = [1, 5, 6, -5]\n",
    "\n",
    "l2 = [8, 0, 4, -3, 10]\n",
    "\n",
    "l3 = [-5, 6, 9, 5]"
   ]
  },
  {
   "cell_type": "code",
   "execution_count": 26,
   "metadata": {},
   "outputs": [],
   "source": [
    "\n",
    "def suma_elementos(lista):\n",
    "    suma = 0\n",
    "\n",
    "    for elemento in lista:\n",
    "        suma += elemento\n",
    "\n",
    "    return suma\n"
   ]
  },
  {
   "cell_type": "code",
   "execution_count": 28,
   "metadata": {},
   "outputs": [
    {
     "name": "stdout",
     "output_type": "stream",
     "text": [
      "resultado l1:  7\n",
      "resultado l2:  19\n",
      "resultado l3:  15\n"
     ]
    }
   ],
   "source": [
    "print(\"resultado l1: \", suma_elementos(l1))\n",
    "\n",
    "print(\"resultado l2: \", suma_elementos(l2))\n",
    "\n",
    "print(\"resultado l3: \", suma_elementos(l3))"
   ]
  }
 ],
 "metadata": {
  "kernelspec": {
   "display_name": "Python 3",
   "language": "python",
   "name": "python3"
  },
  "language_info": {
   "codemirror_mode": {
    "name": "ipython",
    "version": 3
   },
   "file_extension": ".py",
   "mimetype": "text/x-python",
   "name": "python",
   "nbconvert_exporter": "python",
   "pygments_lexer": "ipython3",
   "version": "3.11.4"
  }
 },
 "nbformat": 4,
 "nbformat_minor": 2
}
